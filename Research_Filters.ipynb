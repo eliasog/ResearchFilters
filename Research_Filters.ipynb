{
 "cells": [
  {
   "cell_type": "markdown",
   "metadata": {},
   "source": [
    "# Filter Research\n",
    "## Dr. Larson\n",
    "## Grace Eliason\n",
    "## Spring 2017"
   ]
  },
  {
   "cell_type": "code",
   "execution_count": 26,
   "metadata": {
    "collapsed": false
   },
   "outputs": [],
   "source": [
    "## End goal: Maximize magnitude of stars at specific temperatures through different filters\n",
    "\n",
    "## import all the nice things we're using for our plots and maths\n",
    "\n",
    "import matplotlib.pyplot as plt\n",
    "import numpy as np\n",
    "from scipy.integrate import quad\n",
    "from scipy import interpolate \n",
    "%matplotlib inline "
   ]
  },
  {
   "cell_type": "markdown",
   "metadata": {},
   "source": [
    "### Part 1: The \"Ideal\" Filter"
   ]
  },
  {
   "cell_type": "code",
   "execution_count": 27,
   "metadata": {
    "collapsed": false
   },
   "outputs": [],
   "source": [
    "## define our \"getfilter\" function\n",
    "## will allow us to call the specific type of filter we want \n",
    "\n",
    "def getfilter(band):\n",
    "    \n",
    "    if band=='Ks':          ## red\n",
    "        lambda_eff=2.159         # m^-6\n",
    "        halfwidth=0.262/2.0      # m^-6\n",
    "        F0=4.283E-14             # W/m^-2/m^-6\n",
    "    \n",
    "    elif band=='H':\n",
    "        lambda_eff=1.662\n",
    "        halfwidth=0.251/2.0\n",
    "        F0=1.133E-13\n",
    "    \n",
    "    elif band=='J': \n",
    "        lambda_eff=1.235\n",
    "        halfwidth=0.162/2.0 \n",
    "        F0=3.129E-13\n",
    "    \n",
    "    elif band=='U':\n",
    "        lambda_eff=0.365\n",
    "        halfwidth=0.066/2.0\n",
    "        F0=4.19E-12\n",
    "    \n",
    "    elif band=='B':            ## blue\n",
    "        lambda_eff=0.445\n",
    "        halfwidth=0.094/2.0\n",
    "        F0=6.60E-12\n",
    "    \n",
    "    elif band=='V':            ## green\n",
    "        lambda_eff=0.551\n",
    "        halfwidth=0.088/2.0\n",
    "        F0=3.61E-12\n",
    "    \n",
    "    elif band=='R': \n",
    "        lambda_eff=0.658\n",
    "        halfwidth=0.138/2.0\n",
    "        F0=2.25E-12\n",
    "    \n",
    "    elif band=='I':\n",
    "        lambda_eff=0.806\n",
    "        halfwidth=0.149/2.0\n",
    "        F0=1.22E-12\n",
    "    \n",
    "    return lambda_eff, halfwidth, F0    ## because we need these as inputs to our next functions"
   ]
  },
  {
   "cell_type": "code",
   "execution_count": 28,
   "metadata": {
    "collapsed": false
   },
   "outputs": [],
   "source": [
    "## define the blackbody radiation curve (the planck curve) as a function \n",
    "\n",
    "def planck(x, T):\n",
    "    \n",
    "    h = 6.626e-34\n",
    "    c = 3.0e+8\n",
    "    k = 1.38e-23\n",
    "\n",
    "    a0 = 2.0*h*c**2\n",
    "    b0 = (h*c)/(x*k*T)\n",
    "    intensity = a0 / ((x**5) * (np.exp(b0) - 1.0) )\n",
    "    return intensity\n",
    "\n",
    "wavelengths = np.arange(1e-9, 3e-6, 1e-9) ## for our \"x\" value in the function\n",
    "temperatures = np.arange(2500, 38000, 100) ## for our \"T\" value in the function; the full range of Main Sequence temps"
   ]
  },
  {
   "cell_type": "code",
   "execution_count": 29,
   "metadata": {
    "collapsed": false
   },
   "outputs": [],
   "source": [
    "## define our magnitude function; its end goal is to get the magnitude (m = -2.5 log (f/fx)) for our given parameters\n",
    "## ideal magnitude because it depends only on filter and blackbody curve\n",
    "\n",
    "def ideal_mag(lambda_eff, halfwidth, F0):    ## like I said, it takes in the following arguments for certain filters\n",
    "     \n",
    "    a = (lambda_eff - halfwidth)*1e-6   ## upper integral limit\n",
    "    b = (lambda_eff + halfwidth)*1e-6   ## lower integral limit\n",
    "    \n",
    "    flux_x = F0*2*halfwidth*1e-2         ## *1e4 to get from /m^-2 to W/m^2; *1e-6 to get the correct wavelengths\n",
    "    \n",
    "    flux_array = []                     ## just defining an array to put our calculated fluxes in\n",
    "    magnitude_array = []                ## and one for our magnitudes as well \n",
    "    \n",
    "    for t in temperatures:              ## iterating through all possible temperatures to get flux\n",
    "        flux = quad(planck, a, b, args=(t))[0]    ## quad takes the integral from a to b, and I called the planck function because that's what we're integrating \n",
    "        flux = flux/(4*np.pi*(3.086e17)**2)       ## NOTE that 'planck' is divided by 4*pi*(10pc)^2 to get a more realistic flux (stars are far away from us)\n",
    "        flux_array = np.append(flux_array, flux)  ## this collects our flux values in an array\n",
    "        \n",
    "    for f in flux_array:                          ## iterating through all flux values in our flux array\n",
    "        magnitude = -2.5*np.log10(f/flux_x)       ## this is the function we want\n",
    "        magnitude_array = np.append(magnitude_array, magnitude)     ## again calculating \n",
    "    \n",
    "    return magnitude_array"
   ]
  },
  {
   "cell_type": "code",
   "execution_count": 30,
   "metadata": {
    "collapsed": false
   },
   "outputs": [],
   "source": [
    "lambda_eff, halfwidth, F0 = getfilter('Ks') ## calling the getfliter function to specify filter\n",
    "\n",
    "Ks_magnitudes = ideal_mag(lambda_eff, halfwidth, F0) ## calling the planck_mag function using our band-specific variables"
   ]
  },
  {
   "cell_type": "code",
   "execution_count": 31,
   "metadata": {
    "collapsed": false
   },
   "outputs": [],
   "source": [
    "lambda_eff, halfwidth, F0 = getfilter('B') ## calling the getfliter function to specify filter\n",
    "\n",
    "B_magnitudes = ideal_mag(lambda_eff, halfwidth, F0)"
   ]
  },
  {
   "cell_type": "code",
   "execution_count": 32,
   "metadata": {
    "collapsed": false
   },
   "outputs": [],
   "source": [
    "lambda_eff, halfwidth, F0 = getfilter('V') ## calling the getfliter function to specify filter\n",
    "\n",
    "V_magnitudes = ideal_mag(lambda_eff, halfwidth, F0)"
   ]
  },
  {
   "cell_type": "code",
   "execution_count": 57,
   "metadata": {
    "collapsed": false
   },
   "outputs": [
    {
     "data": {
      "text/plain": [
       "<matplotlib.legend.Legend at 0x1152ceb90>"
      ]
     },
     "execution_count": 57,
     "metadata": {},
     "output_type": "execute_result"
    },
    {
     "data": {
      "image/png": "[encoded data removed]",
      "text/plain": [
       "<matplotlib.figure.Figure at 0x11443dd90>"
      ]
     },
     "metadata": {},
     "output_type": "display_data"
    }
   ],
   "source": [
    "B_minus_V = B_magnitudes - V_magnitudes ## taking the difference between the B and V magnitudes to plot against the Ks magnitudes \n",
    "\n",
    "magnitude_plot = plt.plot(B_minus_V, Ks_magnitudes, label='Increasing temperature to the left') ## plotting them against each other, \n",
    "plt.ylabel('Ks magnitudes')\n",
    "plt.xlabel('B-V magnitudes')\n",
    "plt.gca().invert_yaxis() ## inverting the y-axis to show and increasing temperature\n",
    "plt.legend(loc='upper right')\n",
    "\n"
   ]
  },
  {
   "cell_type": "markdown",
   "metadata": {},
   "source": [
    "### Part 2: The Real Filter"
   ]
  },
  {
   "cell_type": "code",
   "execution_count": 34,
   "metadata": {
    "collapsed": false
   },
   "outputs": [],
   "source": [
    "## Goals: multiply by alotted light as a function of wavelength; Effects of Interstellar Extinction; trying to find limits \n",
    "## planck flux multiplied by this function, THEN the integral to get a more accurate magnitude  \n",
    "## Which data to use: J-H vs H-J http://www.ipac.caltech.edu/2mass/releases/allsky/doc/sec6_4a.html\n",
    "## html\n",
    "## fix the data_mag function \n",
    "## Going forward: Plotting color to color (magJ-magH) vs (magH-magK)\n",
    "## Theory behind Holly's research"
   ]
  },
  {
   "cell_type": "code",
   "execution_count": 35,
   "metadata": {
    "collapsed": false
   },
   "outputs": [],
   "source": [
    "##  manually-entered data\n",
    "\n",
    "## anything with the extension _wav represents wavelengths in microns\n",
    "## anything with the extension _rsr represents relative spectral response \n",
    "## J represents the J-band; H represents the H-band\n",
    "\n",
    "J_wav = [1.062, 1.066,1.07,1.075,1.078,1.082,1.084,1.087,1.089,1.093,1.096,1.102,1.105,1.107,1.109,\n",
    "         1.112,1.116,1.117,1.12,1.123,1.128,1.129,1.132,1.134,1.138,1.14,1.143,1.147,1.154,1.159,1.164\n",
    "         ,1.167,1.17,1.173,1.175,1.179,1.182,1.186,1.188,1.192,1.195,1.199,1.202,1.209,1.216,1.221,1.227,1.231,1.236\n",
    "         ,1.24,1.244,1.247,1.253,1.255,1.258,1.26,1.265,1.27,1.275,1.279,1.286,1.292,1.297,1.302,1.305,1.307,1.31\n",
    "         ,1.313,1.316,1.319,1.323,1.326,1.33,1.333,1.334,1.336,1.339,1.343,1.346,1.349,1.353,1.355,1.36,1.363,1.37\n",
    "         ,1.373,1.377,1.383,1.388,1.392,1.395,1.396,1.397,1.398,1.4,1.401,1.402,1.404,1.406,1.407,1.41,1.412,1.416\n",
    "         ,1.421,1.426,1.442,1.45]\n",
    "J_rsr = [0,4.07E-04,1.54E-03,2.67E-03,5.51E-03,1.23E-02,2.03E-02,3.06E-02,4.05E-02,5.15E-02,5.64E-02,7.18E-02\n",
    "         ,0.273603,0.340997,0.358446,0.380134,0.330668,0.239548,0.250062,0.283301,0.258233,0.251474,0.538119\n",
    "         ,0.223168,0.536893,0.110203,0.529207,0.26194,0.320155,0.1743,0.607031,0.617933,0.676289,0.72794,0.746531\n",
    "         ,0.830404,0.790307,0.809605,0.836888,0.835984,0.749936,0.708013,0.698759,0.704854,0.700382,0.732765,0.705725\n",
    "         ,0.842431,0.921873,0.952505,0.967585,0.959508,0.922697,0.892978,0.852943,0.802308,0.750078,0.678072,0.652417\n",
    "         ,0.638754,0.642413,0.64856,0.68238,0.752903,0.775942,0.811828,0.777008,0.72103,0.952459,0.855137,0.841401\n",
    "         ,1,0.894736,0.854912,0.537894,0.279866,0.906532,0.689345,0.553327,0.243177,1.44E-02,1.89E-04,4.01E-02\n",
    "         ,4.54E-03,3.20E-04,3.72E-02,5.38E-04,0,1.44E-04,3.30E-03,3.14E-04,8.48E-03,2.54E-02,0.118446,1.36E-04\n",
    "         ,6.10E-05,5.21E-02,1.04E-02,4.78E-02,4.20E-04,2.37E-03,5.26E-03,8.65E-03,7.29E-04,3.48E-04,3.78E-04,0]\n",
    "\n",
    "H_wav = [1.289,1.315,1.341,1.368,1.397,1.418,1.44,1.462,1.478,1.486,1.493,1.504,1.515,1.528,1.539,1.546,1.551,1.556\n",
    "         ,1.565,1.572,1.577,1.583,1.592,1.597,1.602,1.613,1.619,1.628,1.633,1.642,1.648,1.657,1.659,1.671,1.684\n",
    "         ,1.701,1.715,1.727,1.739,1.746,1.751,1.753,1.756,1.764,1.775,1.785,1.79,1.796,1.803,1.81,1.813,1.818,1.828\n",
    "         ,1.835,1.85,1.871,1.893,1.914]\n",
    "H_rsr = [0,5.92E-08,1.27E-07,0,0,1.71E-05,5.11E-04,2.77E-03,8.09E-03,2.87E-02,8.71E-02,0.201449,0.438159,0.686357\n",
    "         ,0.818076,0.882073,0.911825,0.926872,0.929288,0.872747,0.856619,0.882556,0.918084,0.926654,0.907594\n",
    "         ,0.925974,0.920496,0.924198,0.923533,0.941788,0.949134,0.980658,0.993744,1,0.956052,0.924116,0.98212\n",
    "         ,0.991589,0.988683,0.979168,0.968184,0.93704,0.918998,0.842264,0.667111,0.269402,0.45163,0.173062,0.107726\n",
    "         ,7.07E-02,5.11E-03,2.00E-02,3.92E-04,1.53E-06,5.95E-05,0,3.05E-05,0]\n"
   ]
  },
  {
   "cell_type": "code",
   "execution_count": 46,
   "metadata": {
    "collapsed": false
   },
   "outputs": [],
   "source": [
    "## creating a second planck curve that will take in MICRONS as opposed to meters\n",
    "\n",
    "def planck2(x, T):\n",
    "    \n",
    "    h = 6.626e-34 ## J*s\n",
    "    c = 3.0e+8 ## m/s\n",
    "    k = 1.38e-23 ## J/K\n",
    "\n",
    "    a0 = 2.0*h*c**2\n",
    "    b0 = (h*c)/((x*1e-6)*k*T)\n",
    "    intensity = a0 / (((x*1e-6)**5) * (np.exp(b0) - 1.0) )\n",
    "    return intensity\n",
    "\n",
    "wavelengths = np.arange(1, 3, 1e-3) ## for our new wavelengths IN MICRONS\n",
    "temperatures = np.arange(2500, 38000, 100) ## for our \"T\" value in the function; the full range of Main Sequence temps"
   ]
  },
  {
   "cell_type": "code",
   "execution_count": 47,
   "metadata": {
    "collapsed": false
   },
   "outputs": [
    {
     "data": {
      "text/plain": [
       "[<matplotlib.lines.Line2D at 0x10385ad10>]"
      ]
     },
     "execution_count": 47,
     "metadata": {},
     "output_type": "execute_result"
    },
    {
     "data": {
      "image/png": "[encoded data removed]",
      "text/plain": [
       "<matplotlib.figure.Figure at 0x1114f4c90>"
      ]
     },
     "metadata": {},
     "output_type": "display_data"
    }
   ],
   "source": [
    "## let's just choose a temperature at which to plot our planck curve\n",
    "\n",
    "plt.plot(wavelengths, planck2(wavelengths,1000))"
   ]
  },
  {
   "cell_type": "code",
   "execution_count": 37,
   "metadata": {
    "collapsed": false
   },
   "outputs": [
    {
     "data": {
      "text/plain": [
       "[<matplotlib.lines.Line2D at 0x1146ccb10>]"
      ]
     },
     "execution_count": 37,
     "metadata": {},
     "output_type": "execute_result"
    },
    {
     "data": {
      "image/png": "[encoded data removed]",
      "text/plain": [
       "<matplotlib.figure.Figure at 0x1114e2d50>"
      ]
     },
     "metadata": {},
     "output_type": "display_data"
    }
   ],
   "source": [
    "## and here's the relative spectral response against wavelength for the H-band filter \n",
    "\n",
    "plt.plot(H_wav, H_rsr)"
   ]
  },
  {
   "cell_type": "code",
   "execution_count": 48,
   "metadata": {
    "collapsed": false
   },
   "outputs": [],
   "source": [
    "## this function will multiply our actual data by our blackbody curve, i.e. the two functions seen above \n",
    "\n",
    "def planck_and_data(x, y, T):\n",
    "    \n",
    "    f = interpolate.interp1d(x, y)   \n",
    "    \n",
    "    intensity_array = []\n",
    "    \n",
    "    for i in x:\n",
    "        intensity = (planck2(i, T))*f(i)\n",
    "        intensity_array = np.append(intensity_array, intensity)\n",
    "\n",
    "    return intensity_array\n",
    "    "
   ]
  },
  {
   "cell_type": "code",
   "execution_count": 49,
   "metadata": {
    "collapsed": false
   },
   "outputs": [
    {
     "data": {
      "text/plain": [
       "49090738769.902855"
      ]
     },
     "execution_count": 49,
     "metadata": {},
     "output_type": "execute_result"
    },
    {
     "data": {
      "image/png": "[encoded data removed]",
      "text/plain": [
       "<matplotlib.figure.Figure at 0x1145b2a10>"
      ]
     },
     "metadata": {},
     "output_type": "display_data"
    }
   ],
   "source": [
    "## here are the two curves multiplied together for 1000 K\n",
    "\n",
    "H = planck_and_data(H_wav, H_rsr, 1000)\n",
    "\n",
    "plt.plot(H_wav, H)\n",
    "\n",
    "np.trapz(H)"
   ]
  },
  {
   "cell_type": "code",
   "execution_count": 52,
   "metadata": {
    "collapsed": false
   },
   "outputs": [
    {
     "name": "stdout",
     "output_type": "stream",
     "text": [
      "[  9.52584703e+12   1.09527968e+13   1.24717653e+13   1.40788732e+13\n",
      "   1.57701917e+13   1.75418054e+13   1.93898592e+13   2.13105933e+13\n",
      "   2.33003678e+13   2.53556798e+13   2.74731742e+13   2.96496490e+13\n",
      "   3.18820583e+13   3.41675111e+13   3.65032690e+13   3.88867422e+13\n",
      "   4.13154840e+13   4.37871854e+13   4.62996686e+13   4.88508807e+13\n",
      "   5.14388871e+13   5.40618650e+13   5.67180972e+13   5.94059658e+13\n",
      "   6.21239463e+13   6.48706022e+13   6.76445791e+13   7.04446004e+13\n",
      "   7.32694615e+13   7.61180262e+13   7.89892218e+13   8.18820354e+13\n",
      "   8.47955100e+13   8.77287414e+13   9.06808741e+13   9.36510992e+13\n",
      "   9.66386507e+13   9.96428034e+13   1.02662870e+14   1.05698200e+14\n",
      "   1.08748174e+14   1.11812207e+14   1.14889743e+14   1.17980252e+14\n",
      "   1.21083233e+14   1.24198207e+14   1.27324720e+14   1.30462341e+14\n",
      "   1.33610657e+14   1.36769276e+14   1.39937824e+14   1.43115944e+14\n",
      "   1.46303297e+14   1.49499559e+14   1.52704418e+14   1.55917580e+14\n",
      "   1.59138760e+14   1.62367690e+14   1.65604109e+14   1.68847770e+14\n",
      "   1.72098437e+14   1.75355882e+14   1.78619887e+14   1.81890244e+14\n",
      "   1.85166754e+14   1.88449224e+14   1.91737470e+14   1.95031316e+14\n",
      "   1.98330591e+14   2.01635134e+14   2.04944787e+14   2.08259400e+14\n",
      "   2.11578828e+14   2.14902932e+14   2.18231577e+14   2.21564634e+14\n",
      "   2.24901980e+14   2.28243494e+14   2.31589061e+14   2.34938570e+14\n",
      "   2.38291913e+14   2.41648987e+14   2.45009693e+14   2.48373934e+14\n",
      "   2.51741616e+14   2.55112651e+14   2.58486951e+14   2.61864433e+14\n",
      "   2.65245016e+14   2.68628621e+14   2.72015172e+14   2.75404597e+14\n",
      "   2.78796825e+14   2.82191787e+14   2.85589417e+14   2.88989649e+14\n",
      "   2.92392424e+14   2.95797679e+14   2.99205356e+14   3.02615400e+14\n",
      "   3.06027755e+14   3.09442367e+14   3.12859186e+14   3.16278161e+14\n",
      "   3.19699244e+14   3.23122387e+14   3.26547545e+14   3.29974674e+14\n",
      "   3.33403730e+14   3.36834671e+14   3.40267457e+14   3.43702048e+14\n",
      "   3.47138406e+14   3.50576493e+14   3.54016274e+14   3.57457712e+14\n",
      "   3.60900774e+14   3.64345426e+14   3.67791635e+14   3.71239370e+14\n",
      "   3.74688601e+14   3.78139297e+14   3.81591428e+14   3.85044968e+14\n",
      "   3.88499887e+14   3.91956160e+14   3.95413759e+14   3.98872659e+14\n",
      "   4.02332836e+14   4.05794264e+14   4.09256921e+14   4.12720783e+14\n",
      "   4.16185827e+14   4.19652032e+14   4.23119376e+14   4.26587839e+14\n",
      "   4.30057399e+14   4.33528037e+14   4.36999734e+14   4.40472470e+14\n",
      "   4.43946227e+14   4.47420986e+14   4.50896731e+14   4.54373444e+14\n",
      "   4.57851108e+14   4.61329707e+14   4.64809224e+14   4.68289644e+14\n",
      "   4.71770951e+14   4.75253130e+14   4.78736167e+14   4.82220048e+14\n",
      "   4.85704757e+14   4.89190282e+14   4.92676609e+14   4.96163725e+14\n",
      "   4.99651617e+14   5.03140272e+14   5.06629678e+14   5.10119824e+14\n",
      "   5.13610696e+14   5.17102285e+14   5.20594578e+14   5.24087564e+14\n",
      "   5.27581232e+14   5.31075573e+14   5.34570574e+14   5.38066228e+14\n",
      "   5.41562522e+14   5.45059448e+14   5.48556996e+14   5.52055156e+14\n",
      "   5.55553920e+14   5.59053278e+14   5.62553221e+14   5.66053742e+14\n",
      "   5.69554830e+14   5.73056479e+14   5.76558679e+14   5.80061424e+14\n",
      "   5.83564704e+14   5.87068512e+14   5.90572842e+14   5.94077684e+14\n",
      "   5.97583032e+14   6.01088879e+14   6.04595218e+14   6.08102042e+14\n",
      "   6.11609345e+14   6.15117118e+14   6.18625357e+14   6.22134055e+14\n",
      "   6.25643205e+14   6.29152801e+14   6.32662837e+14   6.36173308e+14\n",
      "   6.39684207e+14   6.43195529e+14   6.46707268e+14   6.50219418e+14\n",
      "   6.53731975e+14   6.57244932e+14   6.60758285e+14   6.64272028e+14\n",
      "   6.67786157e+14   6.71300666e+14   6.74815550e+14   6.78330806e+14\n",
      "   6.81846427e+14   6.85362409e+14   6.88878748e+14   6.92395440e+14\n",
      "   6.95912479e+14   6.99429861e+14   7.02947583e+14   7.06465640e+14\n",
      "   7.09984028e+14   7.13502742e+14   7.17021779e+14   7.20541136e+14\n",
      "   7.24060807e+14   7.27580789e+14   7.31101079e+14   7.34621672e+14\n",
      "   7.38142566e+14   7.41663756e+14   7.45185240e+14   7.48707012e+14\n",
      "   7.52229071e+14   7.55751413e+14   7.59274035e+14   7.62796932e+14\n",
      "   7.66320103e+14   7.69843544e+14   7.73367251e+14   7.76891222e+14\n",
      "   7.80415454e+14   7.83939944e+14   7.87464689e+14   7.90989686e+14\n",
      "   7.94514931e+14   7.98040424e+14   8.01566160e+14   8.05092136e+14\n",
      "   8.08618351e+14   8.12144802e+14   8.15671486e+14   8.19198400e+14\n",
      "   8.22725542e+14   8.26252910e+14   8.29780501e+14   8.33308312e+14\n",
      "   8.36836342e+14   8.40364588e+14   8.43893047e+14   8.47421718e+14\n",
      "   8.50950597e+14   8.54479684e+14   8.58008975e+14   8.61538469e+14\n",
      "   8.65068164e+14   8.68598056e+14   8.72128145e+14   8.75658429e+14\n",
      "   8.79188904e+14   8.82719570e+14   8.86250425e+14   8.89781465e+14\n",
      "   8.93312690e+14   8.96844098e+14   9.00375687e+14   9.03907455e+14\n",
      "   9.07439399e+14   9.10971520e+14   9.14503814e+14   9.18036280e+14\n",
      "   9.21568916e+14   9.25101720e+14   9.28634692e+14   9.32167829e+14\n",
      "   9.35701129e+14   9.39234592e+14   9.42768215e+14   9.46301997e+14\n",
      "   9.49835936e+14   9.53370031e+14   9.56904281e+14   9.60438683e+14\n",
      "   9.63973237e+14   9.67507941e+14   9.71042793e+14   9.74577793e+14\n",
      "   9.78112938e+14   9.81648228e+14   9.85183661e+14   9.88719236e+14\n",
      "   9.92254951e+14   9.95790805e+14   9.99326797e+14   1.00286293e+15\n",
      "   1.00639919e+15   1.00993559e+15   1.01347212e+15   1.01700878e+15\n",
      "   1.02054557e+15   1.02408250e+15   1.02761955e+15   1.03115672e+15\n",
      "   1.03469403e+15   1.03823145e+15   1.04176901e+15   1.04530668e+15\n",
      "   1.04884447e+15   1.05238239e+15   1.05592042e+15   1.05945858e+15\n",
      "   1.06299685e+15   1.06653523e+15   1.07007373e+15   1.07361235e+15\n",
      "   1.07715108e+15   1.08068992e+15   1.08422887e+15   1.08776793e+15\n",
      "   1.09130711e+15   1.09484639e+15   1.09838577e+15   1.10192527e+15\n",
      "   1.10546487e+15   1.10900457e+15   1.11254438e+15   1.11608429e+15\n",
      "   1.11962430e+15   1.12316442e+15   1.12670463e+15   1.13024495e+15\n",
      "   1.13378536e+15   1.13732587e+15   1.14086648e+15   1.14440719e+15\n",
      "   1.14794799e+15   1.15148888e+15   1.15502987e+15   1.15857095e+15\n",
      "   1.16211213e+15   1.16565340e+15   1.16919475e+15   1.17273620e+15\n",
      "   1.17627774e+15   1.17981937e+15   1.18336108e+15   1.18690288e+15\n",
      "   1.19044477e+15   1.19398675e+15   1.19752881e+15]\n"
     ]
    }
   ],
   "source": [
    "## this is just me testing out the integral of our new curve\n",
    "\n",
    "def integral_array(wav, rsr, temperatures):\n",
    "    \n",
    "    flux_array = []\n",
    "    \n",
    "    for t in temperatures: \n",
    "        flux = np.trapz(planck_and_data(wav,rsr,t))   ## trapz takes the integral from a to b, and I called the planck function because that's what we're integrating \n",
    "        flux_array = np.append(flux_array, flux)  ## this collects our flux values in an array\n",
    "    \n",
    "    return flux_array\n",
    "\n",
    "H_integral = integral_array(H_wav, H_rsr, temperatures)\n",
    "print H_integral"
   ]
  },
  {
   "cell_type": "code",
   "execution_count": 41,
   "metadata": {
    "collapsed": false
   },
   "outputs": [],
   "source": [
    "## defining our actual magnitude function\n",
    "## this time, we're finding the area under our planck_and_data curve for a range of temperatures on the main sequence \n",
    "\n",
    "def actual_mag(lambda_eff, halfwidth, F0, wav, rsr, temps):        ## it takes in the following arguments for certain filters\n",
    "     \n",
    "    flux_x = F0*2*halfwidth*1e-2                   ## *1e4 to get from /m^-2 to W/m^2; *1e-6 to get the correct wavelengths\n",
    "    \n",
    "    flux_array = []                               ## just defining an array to put our calculated fluxes in\n",
    "    magnitude_array = []                          ## and one for our magnitudes as well \n",
    "    \n",
    "    for t in temperatures: \n",
    "        flux = np.trapz(planck_and_data(wav, rsr, t))   ## trapz takes the integral from a to b, and I called the planck_and_data function because that's what we're integrating \n",
    "        flux_array = np.append(flux_array, flux)      ## this collects our flux values in an array\n",
    "        \n",
    "    for f in flux_array:                          ## iterating through all flux values in our flux array\n",
    "        magnitude = -2.5*np.log10(f/flux_x)       ## this is the function we want\n",
    "        magnitude_array = np.append(magnitude_array, magnitude)     ## again calculating \n",
    "    \n",
    "    return magnitude_array"
   ]
  },
  {
   "cell_type": "code",
   "execution_count": 44,
   "metadata": {
    "collapsed": false
   },
   "outputs": [
    {
     "data": {
      "text/plain": [
       "[<matplotlib.lines.Line2D at 0x114856590>]"
      ]
     },
     "execution_count": 44,
     "metadata": {},
     "output_type": "execute_result"
    },
    {
     "data": {
      "image/png": "[encoded data removed]",
      "text/plain": [
       "<matplotlib.figure.Figure at 0x1117cda90>"
      ]
     },
     "metadata": {},
     "output_type": "display_data"
    }
   ],
   "source": [
    "## Let's do this!!!\n",
    "\n",
    "lambda_eff, halfwidth, F0 = getfilter('H') ## calling the getfliter function to specify filter\n",
    "\n",
    "H_mag = actual_mag(lambda_eff, halfwidth, F0, H_wav, H_rsr, temperatures) \n",
    "\n",
    "plt.plot(temperatures, H_mag)\n",
    "\n",
    "### Ahhhh It worked!!!!"
   ]
  },
  {
   "cell_type": "code",
   "execution_count": 53,
   "metadata": {
    "collapsed": false
   },
   "outputs": [
    {
     "data": {
      "text/plain": [
       "[<matplotlib.lines.Line2D at 0x1151ffe50>]"
      ]
     },
     "execution_count": 53,
     "metadata": {},
     "output_type": "execute_result"
    },
    {
     "data": {
      "image/png": "[encoded data removed]",
      "text/plain": [
       "<matplotlib.figure.Figure at 0x1149e5d50>"
      ]
     },
     "metadata": {},
     "output_type": "display_data"
    }
   ],
   "source": [
    "## doing it for the J-band filter\n",
    "\n",
    "lambda_eff, halfwidth, F0 = getfilter('J') ## calling the getfliter function to specify filter\n",
    "\n",
    "J_mag = actual_mag(lambda_eff, halfwidth, F0, J_wav, J_rsr, temperatures) \n",
    "\n",
    "plt.plot(temperatures, J_mag)"
   ]
  },
  {
   "cell_type": "code",
   "execution_count": 58,
   "metadata": {
    "collapsed": false
   },
   "outputs": [
    {
     "data": {
      "image/png": "[encoded data removed]",
      "text/plain": [
       "<matplotlib.figure.Figure at 0x1144efe50>"
      ]
     },
     "metadata": {},
     "output_type": "display_data"
    }
   ],
   "source": [
    "## Hopefully, this is what we wanted\n",
    "\n",
    "J_minus_H = J_mag - H_mag\n",
    "\n",
    "H_minus_J = H_mag - J_mag\n",
    "\n",
    "plt.plot(H_minus_J, J_minus_H)\n",
    "plt.ylabel('J-H magnitudes')\n",
    "plt.xlabel('H-J magnitudes')\n",
    "plt.gca().invert_yaxis() ## inverting the y-axis to show and increasing temperature"
   ]
  },
  {
   "cell_type": "code",
   "execution_count": null,
   "metadata": {
    "collapsed": false
   },
   "outputs": [],
   "source": [
    "\n"
   ]
  },
  {
   "cell_type": "code",
   "execution_count": null,
   "metadata": {
    "collapsed": true
   },
   "outputs": [],
   "source": []
  },
  {
   "cell_type": "markdown",
   "metadata": {},
   "source": []
  }
 ],
 "metadata": {
  "kernelspec": {
   "display_name": "Python 2",
   "language": "python",
   "name": "python2"
  },
  "language_info": {
   "codemirror_mode": {
    "name": "ipython",
    "version": 2
   },
   "file_extension": ".py",
   "mimetype": "text/x-python",
   "name": "python",
   "nbconvert_exporter": "python",
   "pygments_lexer": "ipython2",
   "version": "2.7.11"
  }
 },
 "nbformat": 4,
 "nbformat_minor": 0
}
